{
 "cells": [
  {
   "cell_type": "markdown",
   "id": "755ec3d0",
   "metadata": {},
   "source": [
    "# PAXG Price logger\n",
    "Sam Greydanus | December 2022 | MIT License"
   ]
  },
  {
   "cell_type": "code",
   "execution_count": 1,
   "id": "b95fb206",
   "metadata": {},
   "outputs": [],
   "source": [
    "# !pip install ccxt\n",
    "# !pip install Nasdaq-Data-Link"
   ]
  },
  {
   "cell_type": "code",
   "execution_count": 2,
   "id": "1225d1b3",
   "metadata": {},
   "outputs": [],
   "source": [
    "import pandas as pd\n",
    "import matplotlib.pyplot as plt\n",
    "import time, random, requests, re, os, datetime, argparse"
   ]
  },
  {
   "cell_type": "code",
   "execution_count": 3,
   "id": "551cfa9e",
   "metadata": {},
   "outputs": [],
   "source": [
    "import ccxt, nasdaqdatalink\n",
    "import numpy as np\n",
    "import matplotlib.pyplot as plt\n",
    "\n",
    "from paxg import logging_loop  # this is in the same directory as this .ipnyb\n",
    "\n",
    "from IPython.lib import backgroundjobs as bg\n",
    "jobs = bg.BackgroundJobManager()\n",
    "\n",
    "from matplotlib import rcParams\n",
    "def figsize(width,height):\n",
    "    rcParams['figure.figsize'] = (width,height)\n",
    "\n",
    "%matplotlib inline\n",
    "figsize(17,5)\n",
    "rcParams['font.size'] = 14"
   ]
  },
  {
   "cell_type": "code",
   "execution_count": null,
   "id": "bd39b771",
   "metadata": {},
   "outputs": [],
   "source": []
  },
  {
   "cell_type": "markdown",
   "id": "91db1c87",
   "metadata": {},
   "source": [
    "## Start a job logging data in the background"
   ]
  },
  {
   "cell_type": "code",
   "execution_count": 8,
   "id": "578bde6f",
   "metadata": {},
   "outputs": [],
   "source": [
    "# handle hyperparams\n",
    "class ObjectView(object):  # make a dictionary look like an object\n",
    "    def __init__(self, d): self.__dict__ = d\n",
    "\n",
    "def get_args(as_dict=False):\n",
    "    arg_dict = {'logfile': 'paxg.csv',\n",
    "                'interval': 10,\n",
    "                'verbose': False}\n",
    "    return arg_dict if as_dict else ObjectView(arg_dict)\n",
    "\n",
    "args = get_args()\n",
    "\n",
    "# logging_loop(get_args())\n",
    "# jobs.new('logging_loop(get_args())')"
   ]
  },
  {
   "cell_type": "code",
   "execution_count": 5,
   "id": "28a40eed",
   "metadata": {},
   "outputs": [],
   "source": [
    "jobs.status()"
   ]
  },
  {
   "cell_type": "code",
   "execution_count": 6,
   "id": "36d20c96",
   "metadata": {},
   "outputs": [],
   "source": [
    "# jobs[0]"
   ]
  },
  {
   "cell_type": "markdown",
   "id": "097f92b7",
   "metadata": {},
   "source": [
    "## Basic visualizations"
   ]
  },
  {
   "cell_type": "code",
   "execution_count": 14,
   "id": "c394e95d",
   "metadata": {},
   "outputs": [
    {
     "data": {
      "text/html": [
       "<div>\n",
       "<style scoped>\n",
       "    .dataframe tbody tr th:only-of-type {\n",
       "        vertical-align: middle;\n",
       "    }\n",
       "\n",
       "    .dataframe tbody tr th {\n",
       "        vertical-align: top;\n",
       "    }\n",
       "\n",
       "    .dataframe thead th {\n",
       "        text-align: right;\n",
       "    }\n",
       "</style>\n",
       "<table border=\"1\" class=\"dataframe\">\n",
       "  <thead>\n",
       "    <tr style=\"text-align: right;\">\n",
       "      <th></th>\n",
       "      <th>time</th>\n",
       "      <th>xau</th>\n",
       "      <th>paxg</th>\n",
       "    </tr>\n",
       "  </thead>\n",
       "  <tbody>\n",
       "    <tr>\n",
       "      <th>167</th>\n",
       "      <td>2022-12-29 22:05:12</td>\n",
       "      <td>1818.36</td>\n",
       "      <td>1812.38</td>\n",
       "    </tr>\n",
       "    <tr>\n",
       "      <th>168</th>\n",
       "      <td>2022-12-29 22:05:23</td>\n",
       "      <td>1818.36</td>\n",
       "      <td>1812.38</td>\n",
       "    </tr>\n",
       "    <tr>\n",
       "      <th>169</th>\n",
       "      <td>2022-12-29 22:06:08</td>\n",
       "      <td>1818.36</td>\n",
       "      <td>1812.56</td>\n",
       "    </tr>\n",
       "    <tr>\n",
       "      <th>170</th>\n",
       "      <td>2022-12-29 22:11:52</td>\n",
       "      <td>1819.19</td>\n",
       "      <td>1811.98</td>\n",
       "    </tr>\n",
       "    <tr>\n",
       "      <th>171</th>\n",
       "      <td>2022-12-29 22:13:53</td>\n",
       "      <td>1819.14</td>\n",
       "      <td>1811.98</td>\n",
       "    </tr>\n",
       "  </tbody>\n",
       "</table>\n",
       "</div>"
      ],
      "text/plain": [
       "                   time      xau     paxg\n",
       "167 2022-12-29 22:05:12  1818.36  1812.38\n",
       "168 2022-12-29 22:05:23  1818.36  1812.38\n",
       "169 2022-12-29 22:06:08  1818.36  1812.56\n",
       "170 2022-12-29 22:11:52  1819.19  1811.98\n",
       "171 2022-12-29 22:13:53  1819.14  1811.98"
      ]
     },
     "execution_count": 14,
     "metadata": {},
     "output_type": "execute_result"
    }
   ],
   "source": [
    "import pandas as pd\n",
    "df = pd.read_csv(args.logfile)\n",
    "df['time'] = pd.to_datetime(df['time'], errors='coerce')\n",
    "df[-5:]"
   ]
  },
  {
   "cell_type": "code",
   "execution_count": 13,
   "id": "924c4c80",
   "metadata": {},
   "outputs": [
    {
     "data": {
      "text/plain": [
       "'2022-12-29T22:13:55.389471'"
      ]
     },
     "execution_count": 13,
     "metadata": {},
     "output_type": "execute_result"
    }
   ],
   "source": [
    "datetime.datetime.now().isoformat()"
   ]
  },
  {
   "cell_type": "code",
   "execution_count": 15,
   "id": "f1680fd8",
   "metadata": {},
   "outputs": [
    {
     "data": {
      "image/png": "[encoded data removed]",
      "text/plain": [
       "<Figure size 1224x720 with 2 Axes>"
      ]
     },
     "metadata": {
      "needs_background": "light"
     },
     "output_type": "display_data"
    }
   ],
   "source": [
    "figsize(17,10)\n",
    "\n",
    "plt.subplot(2,1,1)\n",
    "plt.title('XAU vs PAXG price')\n",
    "plt.plot(df['time'], df['xau'], '.-', color='orange', label='XAU')\n",
    "plt.plot(df['time'], df['paxg'], '.-', color='blue', label='PAXG')\n",
    "plt.legend()\n",
    "\n",
    "plt.subplot(2,1,2)\n",
    "plt.title('PAXG/XAU')\n",
    "plt.plot(df['time'], 100*df['paxg']/df['xau'], '.-', color='black')\n",
    "plt.ylabel('PAXG/XAU (percent)')\n",
    "\n",
    "plt.tight_layout() ; plt.show()"
   ]
  },
  {
   "cell_type": "code",
   "execution_count": null,
   "id": "b8d9df9a",
   "metadata": {},
   "outputs": [],
   "source": []
  },
  {
   "cell_type": "code",
   "execution_count": null,
   "id": "bb3c3a98",
   "metadata": {},
   "outputs": [],
   "source": []
  },
  {
   "cell_type": "code",
   "execution_count": null,
   "id": "3f292122",
   "metadata": {},
   "outputs": [],
   "source": []
  },
  {
   "cell_type": "code",
   "execution_count": null,
   "id": "37bf4c3d",
   "metadata": {},
   "outputs": [],
   "source": []
  },
  {
   "cell_type": "code",
   "execution_count": null,
   "id": "41e68a0d",
   "metadata": {},
   "outputs": [],
   "source": []
  },
  {
   "cell_type": "code",
   "execution_count": null,
   "id": "2c3292a6",
   "metadata": {},
   "outputs": [],
   "source": []
  },
  {
   "cell_type": "code",
   "execution_count": null,
   "id": "91dbe866",
   "metadata": {},
   "outputs": [],
   "source": []
  },
  {
   "cell_type": "code",
   "execution_count": null,
   "id": "22ef0423",
   "metadata": {},
   "outputs": [],
   "source": []
  },
  {
   "cell_type": "code",
   "execution_count": null,
   "id": "5fefff14",
   "metadata": {},
   "outputs": [],
   "source": []
  },
  {
   "cell_type": "code",
   "execution_count": null,
   "id": "535830f0",
   "metadata": {},
   "outputs": [],
   "source": []
  },
  {
   "cell_type": "code",
   "execution_count": 52,
   "id": "e71cb3f1",
   "metadata": {},
   "outputs": [],
   "source": [
    "# def iso2timestamp(iso):\n",
    "#     ts = datetime.datetime.fromisoformat(iso).timestamp()\n",
    "#     return int(ts)\n",
    "\n",
    "# def get_params(**kwargs):\n",
    "#     p = {'start_time': iso2timestamp('2021-05-15 00:00:00.000000'),\n",
    "#        'end_time': datetime.datetime.now(),\n",
    "#        'resolution': 60, 'market_name': 'BTC/USD'}\n",
    "#     p.update(kwargs)\n",
    "#     return p\n",
    "\n",
    "# exch = ccxt.kraken()\n",
    "\n",
    "#token = 'PAXG/USD'\n",
    "# start_time = '2022-12-01 00:00:00.000000'\n",
    "# end_time = datetime.datetime.now()\n",
    "# params = get_params(market_name=token, start_time=start_time, end_time=end_time)\n",
    "\n",
    "# x = np.array(exch.fetch_ohlcv(token, '1h', params=params))[:,1]\n",
    "# t = pd.date_range(start=start_time, end=end_time, periods=len(x))\n",
    "\n",
    "\n",
    "# fig = plt.figure(figsize=[10,3], dpi=120)\n",
    "# plt.plot(t, x, color='black', linewidth=0.5)\n",
    "# plt.ylabel('Price')\n",
    "\n",
    "# plt.tight_layout() ; plt.show()"
   ]
  },
  {
   "cell_type": "code",
   "execution_count": 5,
   "id": "0fe7f2f1",
   "metadata": {},
   "outputs": [
    {
     "name": "stdout",
     "output_type": "stream",
     "text": [
      "2022-12-29T21:47:18,1818.82,1810.86\n",
      "2022-12-29T21:47:29,1819.08,1810.86\n",
      "2022-12-29T21:47:40,1818.82,1810.86\n"
     ]
    },
    {
     "ename": "KeyboardInterrupt",
     "evalue": "",
     "output_type": "error",
     "traceback": [
      "\u001b[0;31m---------------------------------------------------------------------------\u001b[0m",
      "\u001b[0;31mKeyboardInterrupt\u001b[0m                         Traceback (most recent call last)",
      "\u001b[0;32m/var/folders/s4/bmj8zhg16_qd867ggc86g83m0000gn/T/ipykernel_21886/3389912578.py\u001b[0m in \u001b[0;36m<module>\u001b[0;34m\u001b[0m\n\u001b[1;32m     44\u001b[0m \u001b[0;34m\u001b[0m\u001b[0m\n\u001b[1;32m     45\u001b[0m \u001b[0margs\u001b[0m \u001b[0;34m=\u001b[0m \u001b[0mget_args\u001b[0m\u001b[0;34m(\u001b[0m\u001b[0;34m)\u001b[0m\u001b[0;34m\u001b[0m\u001b[0;34m\u001b[0m\u001b[0m\n\u001b[0;32m---> 46\u001b[0;31m \u001b[0mlogging_loop\u001b[0m\u001b[0;34m(\u001b[0m\u001b[0margs\u001b[0m\u001b[0;34m,\u001b[0m \u001b[0mverbose\u001b[0m\u001b[0;34m=\u001b[0m\u001b[0;32mTrue\u001b[0m\u001b[0;34m)\u001b[0m\u001b[0;34m\u001b[0m\u001b[0;34m\u001b[0m\u001b[0m\n\u001b[0m",
      "\u001b[0;32m/var/folders/s4/bmj8zhg16_qd867ggc86g83m0000gn/T/ipykernel_21886/3389912578.py\u001b[0m in \u001b[0;36mlogging_loop\u001b[0;34m(args, verbose)\u001b[0m\n\u001b[1;32m     36\u001b[0m \u001b[0;34m\u001b[0m\u001b[0m\n\u001b[1;32m     37\u001b[0m     \u001b[0;32mwhile\u001b[0m \u001b[0;32mTrue\u001b[0m\u001b[0;34m:\u001b[0m\u001b[0;34m\u001b[0m\u001b[0;34m\u001b[0m\u001b[0m\n\u001b[0;32m---> 38\u001b[0;31m         \u001b[0mtime\u001b[0m\u001b[0;34m.\u001b[0m\u001b[0msleep\u001b[0m\u001b[0;34m(\u001b[0m\u001b[0margs\u001b[0m\u001b[0;34m.\u001b[0m\u001b[0minterval\u001b[0m\u001b[0;34m)\u001b[0m\u001b[0;34m\u001b[0m\u001b[0;34m\u001b[0m\u001b[0m\n\u001b[0m\u001b[1;32m     39\u001b[0m         \u001b[0mdt\u001b[0m\u001b[0;34m,\u001b[0m \u001b[0mxau\u001b[0m\u001b[0;34m,\u001b[0m \u001b[0mpaxg\u001b[0m \u001b[0;34m=\u001b[0m \u001b[0mdatetime\u001b[0m\u001b[0;34m.\u001b[0m\u001b[0mdatetime\u001b[0m\u001b[0;34m.\u001b[0m\u001b[0mnow\u001b[0m\u001b[0;34m(\u001b[0m\u001b[0;34m)\u001b[0m\u001b[0;34m,\u001b[0m \u001b[0mget_xau_price\u001b[0m\u001b[0;34m(\u001b[0m\u001b[0;34m)\u001b[0m\u001b[0;34m,\u001b[0m \u001b[0mget_paxg_price\u001b[0m\u001b[0;34m(\u001b[0m\u001b[0;34m)\u001b[0m\u001b[0;34m\u001b[0m\u001b[0;34m\u001b[0m\u001b[0m\n\u001b[1;32m     40\u001b[0m         \u001b[0;32mwith\u001b[0m \u001b[0mopen\u001b[0m\u001b[0;34m(\u001b[0m\u001b[0margs\u001b[0m\u001b[0;34m.\u001b[0m\u001b[0mlogfile\u001b[0m\u001b[0;34m,\u001b[0m\u001b[0;34m'a'\u001b[0m\u001b[0;34m)\u001b[0m \u001b[0;32mas\u001b[0m \u001b[0mf\u001b[0m\u001b[0;34m:\u001b[0m\u001b[0;34m\u001b[0m\u001b[0;34m\u001b[0m\u001b[0m\n",
      "\u001b[0;31mKeyboardInterrupt\u001b[0m: "
     ]
    }
   ],
   "source": [
    "# def innocent_request(url):\n",
    "#     n = random.randint(0,999)\n",
    "#     headers = {'user-agent': 'Mozilla/5.0 (Windows NT 10.0; Win64; x64) AppleWebKit/537.36'\\\n",
    "#            f'(KHTML, like Gecko) Chrome/75.0.3770.{n:03d} Safari/537.36', 'Cache-Control': 'no-cache'}\n",
    "#     return requests.get(url, headers=headers).text\n",
    "\n",
    "# def get_xau_price(text=None):\n",
    "#     '''Takes in raw html from tradingeconomics.com as \"text\" parameter'''\n",
    "#     if text is None:\n",
    "#         text = innocent_request(\"https://tradingeconomics.com/\")\n",
    "#     gold_section_ix = text.find('<a href=\"/commodity/gold\">')\n",
    "#     xau_price = text[gold_section_ix:gold_section_ix+600].replace(' ', '').split('\\r\\n')[4]\n",
    "#     try:\n",
    "#         xau_price = float(xau_price)\n",
    "#     except:\n",
    "#         raise ValueError('Maybe web scrape failed; this string should be a gold price: \"{}\"'.format(xau_price))\n",
    "#     return xau_price\n",
    "\n",
    "# def get_paxg_price(text=None):\n",
    "#     '''Takes in raw html from coinmarketcap.com as \"text\" parameter'''\n",
    "#     if text is None:\n",
    "#         text = innocent_request(\"https://coinmarketcap.com/currencies/pax-gold/\")\n",
    "#     gold_section_ix = text.find('<strong>PAX Gold Price</strong>')\n",
    "#     paxg_price = re.split('<td>|</td>', text[gold_section_ix:gold_section_ix+100])[1]\n",
    "#     paxg_price = paxg_price.replace('$', '').replace(',', '')\n",
    "#     try:\n",
    "#         paxg_price = float(paxg_price)\n",
    "#     except:\n",
    "#         raise ValueError('Maybe web scrape failed; this string should be a gold price: \"{}\"'.format(paxg_price))\n",
    "#     return paxg_price\n",
    "\n",
    "# def logging_loop(args, verbose=True):\n",
    "#     if not os.path.isfile('prices.csv'):\n",
    "#         with open('prices.csv', 'w') as f:\n",
    "#             f.write('time,xau,paxg\\n')\n",
    "    \n",
    "#     while True:\n",
    "#         time.sleep(args.interval)\n",
    "#         dt, xau, paxg = datetime.datetime.now(), get_xau_price(), get_paxg_price()\n",
    "#         with open(args.logfile,'a') as f:\n",
    "#             row = '{},{},{}\\n'.format(dt.replace(microsecond=0).isoformat(), xau, paxg)\n",
    "#             if verbose: print(row, end='')\n",
    "#             f.write(row)\n",
    "        \n",
    "# args = get_args()\n",
    "# logging_loop(args, verbose=True)"
   ]
  }
 ],
 "metadata": {
  "kernelspec": {
   "display_name": "Python 3 (ipykernel)",
   "language": "python",
   "name": "python3"
  },
  "language_info": {
   "codemirror_mode": {
    "name": "ipython",
    "version": 3
   },
   "file_extension": ".py",
   "mimetype": "text/x-python",
   "name": "python",
   "nbconvert_exporter": "python",
   "pygments_lexer": "ipython3",
   "version": "3.8.5"
  }
 },
 "nbformat": 4,
 "nbformat_minor": 5
}
